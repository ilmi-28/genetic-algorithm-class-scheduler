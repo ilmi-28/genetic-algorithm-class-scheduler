{
  "nbformat": 4,
  "nbformat_minor": 0,
  "metadata": {
    "colab": {
      "provenance": []
    },
    "kernelspec": {
      "name": "python3",
      "display_name": "Python 3"
    },
    "language_info": {
      "name": "python"
    }
  },
  "cells": [
    {
      "cell_type": "code",
      "execution_count": null,
      "metadata": {
        "id": "GmWCaJ-ePEej"
      },
      "outputs": [],
      "source": [
        "import random\n",
        "from prettytable import PrettyTable"
      ]
    },
    {
      "cell_type": "code",
      "source": [
        "modules = [\"Data Structures\", \"Operating System\", \"Artificial Intelligence\", \"Networking\", \"Machine Learning\", \"Programming\"]\n",
        "professors = [\"Prof. Harris\", \"Dr. Perera\", \"Prof. Isaac\", \"Dr. Rathnayake\", \"Prof. Gamage\"]\n",
        "timeslots = [\"8-10 AM\", \"10-12 AM\", \"1-2 PM\", \"2-4 PM\", \"4-5 PM\"]\n",
        "rooms = [\"Lecture Hall 1\", \"Computer Lab 1\", \"Computer Lab 2\", \"Lecture Hall 2\"]"
      ],
      "metadata": {
        "id": "VwANk91KPhjO"
      },
      "execution_count": null,
      "outputs": []
    },
    {
      "cell_type": "code",
      "source": [
        "# Fitness function\n",
        "def fitness(schedule):\n",
        "    conflicts = 0\n",
        "    for i in range(len(schedule)):\n",
        "        for j in range(i + 1, len(schedule)):\n",
        "            if schedule[i][1] == schedule[j][1] and schedule[i][2] == schedule[j][2]:\n",
        "                conflicts += 1\n",
        "    return -conflicts"
      ],
      "metadata": {
        "id": "O2kaQ6aXPyob"
      },
      "execution_count": null,
      "outputs": []
    },
    {
      "cell_type": "code",
      "source": [
        "# Generate initial population\n",
        "def generate_population(size):\n",
        "    population = []\n",
        "    for _ in range(size):\n",
        "        schedule = [(module, random.choice(timeslots), random.choice(rooms)) for module in modules]\n",
        "        population.append(schedule)\n",
        "    return population"
      ],
      "metadata": {
        "id": "W0B1QsNtQGJY"
      },
      "execution_count": null,
      "outputs": []
    },
    {
      "cell_type": "code",
      "source": [
        "# Crossover\n",
        "def crossover(parent1, parent2):\n",
        "    idx = random.randint(1, len(parent1) - 1)\n",
        "    child = parent1[:idx] + parent2[idx:]\n",
        "    return child"
      ],
      "metadata": {
        "id": "X9zfQXpgQOBn"
      },
      "execution_count": null,
      "outputs": []
    },
    {
      "cell_type": "code",
      "source": [
        "# Mutation\n",
        "def mutate(schedule):\n",
        "    idx = random.randint(0, len(schedule) - 1)\n",
        "    schedule[idx] = (schedule[idx][0], random.choice(timeslots), random.choice(rooms))\n",
        "    return schedule"
      ],
      "metadata": {
        "id": "fhngq5AEQVAw"
      },
      "execution_count": null,
      "outputs": []
    },
    {
      "cell_type": "code",
      "source": [
        "# Genetic Algorithm\n",
        "def genetic_algorithm(pop_size, generations):\n",
        "    population = generate_population(pop_size)\n",
        "    for gen in range(generations):\n",
        "        population = sorted(population, key=fitness, reverse=True)\n",
        "        next_gen = population[:2]  # Keep the top 2 schedules\n",
        "        for _ in range(pop_size - 2):\n",
        "            parent1, parent2 = random.sample(population[:10], 2)\n",
        "            child = crossover(parent1, parent2)\n",
        "            if random.random() < 0.1:  # Mutation probability\n",
        "                child = mutate(child)\n",
        "            next_gen.append(child)\n",
        "        population = next_gen\n",
        "    best_schedule = max(population, key=fitness)\n",
        "    return best_schedule"
      ],
      "metadata": {
        "id": "2Qe6yGYHQdjs"
      },
      "execution_count": null,
      "outputs": []
    },
    {
      "cell_type": "code",
      "source": [
        "# Run the algorithm\n",
        "best_schedule = genetic_algorithm(pop_size=20, generations=100)"
      ],
      "metadata": {
        "id": "e87lw7FkQiO9"
      },
      "execution_count": null,
      "outputs": []
    },
    {
      "cell_type": "code",
      "source": [
        "# Display the optimized schedule in a table\n",
        "table = PrettyTable()\n",
        "table.field_names = [\"Module\", \"Timeslot\", \"Room\"]\n",
        "\n",
        "for module, timeslot, room in best_schedule:\n",
        "    table.add_row([module, timeslot, room])\n",
        "\n",
        "print(\"Optimized Schedule:\")\n",
        "print(table)"
      ],
      "metadata": {
        "colab": {
          "base_uri": "https://localhost:8080/"
        },
        "id": "so9AhdvrQlgR",
        "outputId": "75ffc6c8-8394-483f-d2a7-c946248655e3"
      },
      "execution_count": null,
      "outputs": [
        {
          "output_type": "stream",
          "name": "stdout",
          "text": [
            "Optimized Schedule:\n",
            "+-------------------------+----------+----------------+\n",
            "|          Module         | Timeslot |      Room      |\n",
            "+-------------------------+----------+----------------+\n",
            "|     Data Structures     | 8-10 AM  | Computer Lab 2 |\n",
            "|     Operating System    |  4-5 PM  | Computer Lab 2 |\n",
            "| Artificial Intelligence | 10-12 AM | Lecture Hall 2 |\n",
            "|        Networking       |  2-4 PM  | Computer Lab 1 |\n",
            "|     Machine Learning    |  1-2 PM  | Lecture Hall 2 |\n",
            "|       Programming       | 10-12 AM | Computer Lab 1 |\n",
            "+-------------------------+----------+----------------+\n"
          ]
        }
      ]
    }
  ]
}